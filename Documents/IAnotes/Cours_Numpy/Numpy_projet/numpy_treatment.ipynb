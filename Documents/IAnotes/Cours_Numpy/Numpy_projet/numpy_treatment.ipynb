{
 "cells": [
  {
   "cell_type": "code",
   "execution_count": null,
   "metadata": {
    "colab": {
     "base_uri": "https://localhost:8080/"
    },
    "id": "l3wyLNs8zizp",
    "outputId": "dc6d72a8-1d76-42d1-bc58-9c397b2ddb33"
   },
   "outputs": [
    {
     "name": "stdout",
     "output_type": "stream",
     "text": [
      "Requirement already satisfied: numpy in /usr/local/lib/python3.10/dist-packages (1.26.4)\n"
     ]
    }
   ],
   "source": [
    "pip install numpy"
   ]
  },
  {
   "cell_type": "code",
   "execution_count": 3,
   "metadata": {
    "id": "j_N5cV3Z0A5z"
   },
   "outputs": [],
   "source": [
    "import numpy as np"
   ]
  },
  {
   "cell_type": "code",
   "execution_count": null,
   "metadata": {
    "colab": {
     "base_uri": "https://localhost:8080/"
    },
    "id": "LmQYDHwy0K0q",
    "outputId": "22829ee9-b7e2-4fc1-e4e2-bd058eabd615"
   },
   "outputs": [
    {
     "name": "stdout",
     "output_type": "stream",
     "text": [
      "[1 2 3 4]\n"
     ]
    }
   ],
   "source": [
    "liste = [1, 2 ,3, 4]\n",
    "tab = np.array(liste)\n",
    "print(tab)"
   ]
  },
  {
   "cell_type": "code",
   "execution_count": null,
   "metadata": {
    "colab": {
     "base_uri": "https://localhost:8080/"
    },
    "id": "mA4ipaK31VUr",
    "outputId": "84415d7c-0c2a-463b-f98b-df3ca086f1a6"
   },
   "outputs": [
    {
     "name": "stdout",
     "output_type": "stream",
     "text": [
      "[[10 20]\n",
      " [30 40]]\n"
     ]
    }
   ],
   "source": [
    "# Créaon d'un tableau\n",
    "tableau = np.array([[10, 20], [30, 40]])\n",
    "print(tableau)"
   ]
  },
  {
   "cell_type": "code",
   "execution_count": null,
   "metadata": {
    "id": "_GJkJW8p3rvC"
   },
   "outputs": [],
   "source": [
    "tableau_reshape = tableau.reshape(4)"
   ]
  },
  {
   "cell_type": "code",
   "execution_count": null,
   "metadata": {
    "colab": {
     "base_uri": "https://localhost:8080/"
    },
    "id": "5WBiuBxF35cm",
    "outputId": "20ea2e51-ef04-4699-c944-7efdb1f21771"
   },
   "outputs": [
    {
     "data": {
      "text/plain": [
       "array([10, 20, 30, 40])"
      ]
     },
     "execution_count": 8,
     "metadata": {},
     "output_type": "execute_result"
    }
   ],
   "source": [
    "tableau_reshape"
   ]
  },
  {
   "cell_type": "code",
   "execution_count": null,
   "metadata": {
    "colab": {
     "base_uri": "https://localhost:8080/"
    },
    "id": "DSUFLHIu3_Y-",
    "outputId": "a31343aa-d323-47bb-f313-cbaac12e79f6"
   },
   "outputs": [
    {
     "name": "stdout",
     "output_type": "stream",
     "text": [
      "Tableau inial :\n",
      " [[10 20]\n",
      " [30 40]]\n",
      "Tableau redimensionné : [10 20 30 40]\n",
      "tableau aplati: [10 20 30 40]\n"
     ]
    }
   ],
   "source": [
    "# Aplar le tableau\n",
    "tableau_flatten = tableau.flatten()\n",
    "print(\"Tableau inial :\\n\", tableau)\n",
    "print(\"Tableau redimensionné :\", tableau_reshape)\n",
    "print(\"tableau aplati:\", tableau_reshape)"
   ]
  },
  {
   "cell_type": "code",
   "execution_count": null,
   "metadata": {
    "colab": {
     "base_uri": "https://localhost:8080/"
    },
    "id": "HKhC_Lyo5UOf",
    "outputId": "fab1028a-4cfd-48d5-cfff-d32fc1f93d28"
   },
   "outputs": [
    {
     "name": "stdout",
     "output_type": "stream",
     "text": [
      "Tableau aléatoire (uniforme) :\n",
      " [[0.52384205 0.64828834 0.8862134 ]\n",
      " [0.45015204 0.90077429 0.49552347]\n",
      " [0.28198235 0.93904055 0.74291874]]\n",
      "Tableau aléatoire (normale) :\n",
      " [[-0.59484013 -1.29482794 -0.08288166]\n",
      " [-0.89937421  0.21834662 -0.32081033]\n",
      " [ 0.99397134  1.06743897  1.99871853]]\n"
     ]
    }
   ],
   "source": [
    "# Générer des nombres aléatoires\n",
    "random_uniform = np.random.rand(3, 3) # Uniforme entre 0 et 1\n",
    "random_normal = np.random.randn(3, 3) # Distribuon normale\n",
    "print(\"Tableau aléatoire (uniforme) :\\n\", random_uniform)\n",
    "print(\"Tableau aléatoire (normale) :\\n\", random_normal)"
   ]
  },
  {
   "cell_type": "code",
   "execution_count": null,
   "metadata": {
    "colab": {
     "base_uri": "https://localhost:8080/"
    },
    "id": "3UVqTQdP-434",
    "outputId": "6813a504-44d2-451f-8d07-9e1880020c05"
   },
   "outputs": [
    {
     "name": "stderr",
     "output_type": "stream",
     "text": [
      "<ipython-input-28-2835066789c7>:1: RuntimeWarning: divide by zero encountered in divide\n",
      "  tableau = tableau / 0\n"
     ]
    },
    {
     "data": {
      "text/plain": [
       "array([inf, inf, inf, inf])"
      ]
     },
     "execution_count": 28,
     "metadata": {},
     "output_type": "execute_result"
    }
   ],
   "source": [
    "tableau = tableau *1.1\n",
    "tableau"
   ]
  },
  {
   "cell_type": "code",
   "execution_count": null,
   "metadata": {
    "id": "4YvKqD5aBtma"
   },
   "outputs": [],
   "source": []
  },
  {
   "cell_type": "markdown",
   "metadata": {
    "id": "1iuGePJgCNso"
   },
   "source": [
    "# Nouvelle section"
   ]
  },
  {
   "cell_type": "code",
   "execution_count": 7,
   "metadata": {
    "id": "V-SBr9tBH3rP"
   },
   "outputs": [
    {
     "data": {
      "text/plain": [
       "array([['6e', '85.0', '3.0', '1330250'],\n",
       "       ['18e', '55.0', '2.0', '381700'],\n",
       "       ['7e', '120.0', '4.0', '1858800'],\n",
       "       ['19e', '70.0', 'nan', '519400'],\n",
       "       ['8e', '150.0', '5.0', '2457000'],\n",
       "       ['13e', '65.0', '2.0', '491400'],\n",
       "       ['4e', '90.0', '3.0', '1420200'],\n",
       "       ['20e', '60.0', '2.0', '553860'],\n",
       "       ['11e', '75.0', '3.0', '794250'],\n",
       "       ['16e', '110.0', '4.0', '1295900'],\n",
       "       ['nan', '80.0', '3.0', '950000'],\n",
       "       ['15e', 'nan', '4.0', '1100000'],\n",
       "       ['1er', '40.0', '1.0', '5000000'],\n",
       "       ['14e', '200.0', '2.0', '300000'],\n",
       "       ['12e', '30.0', '10.0', '800000']], dtype='<U32')"
      ]
     },
     "execution_count": 7,
     "metadata": {},
     "output_type": "execute_result"
    }
   ],
   "source": [
    "# Créaon des colonnes\n",
    "arrondissement = np.array([\"6e\", \"18e\", \"7e\", \"19e\", \"8e\", \"13e\", \"4e\", \"20e\", \"11e\", \"16e\", np.nan,\n",
    "\"15e\", \"1er\", \"14e\", \"12e\"])\n",
    "\n",
    "surface = np.array([85, 55, 120, 70, 150, 65, 90, 60, 75, 110, 80, np.nan, 40, 200, 30])\n",
    "\n",
    "nombre_pieces = np.array([3, 2, 4, np.nan, 5, 2, 3, 2, 3, 4, 3, 4, 1, 2, 10])\n",
    "\n",
    "prix_vente = np.array([1330250, 381700, 1858800, 519400, 2457000, 491400, 1420200, 553860, 794250,\n",
    "1295900, 950000, 1100000, 5000000, 300000, 800000])\n",
    "\n",
    "# Combiner les colonnes dans un tableau NumPy\n",
    "dataset = np.column_stack((arrondissement, surface, nombre_pieces, prix_vente))\n",
    "\n",
    "# Combinaison des colonnes\n",
    "dataset = np.array([arrondissement, surface, nombre_pieces, prix_vente]).T\n",
    "dataset"
   ]
  },
  {
   "cell_type": "code",
   "execution_count": null,
   "metadata": {
    "id": "enMvZyJ4I0MN"
   },
   "outputs": [],
   "source": []
  },
  {
   "cell_type": "code",
   "execution_count": null,
   "metadata": {
    "colab": {
     "base_uri": "https://localhost:8080/"
    },
    "id": "_CqAeB7uonZ_",
    "outputId": "b94492ed-4df4-41c6-e761-9339eb10428d"
   },
   "outputs": [
    {
     "data": {
      "text/plain": [
       "array([['6e', '85.0', '3.0', '1330250'],\n",
       "       ['18e', '55.0', '2.0', '381700'],\n",
       "       ['7e', '120.0', '4.0', '1858800'],\n",
       "       ['19e', '70.0', 'nan', '519400'],\n",
       "       ['8e', '150.0', '5.0', '2457000'],\n",
       "       ['13e', '65.0', '2.0', '491400'],\n",
       "       ['4e', '90.0', '3.0', '1420200'],\n",
       "       ['20e', '60.0', '2.0', '553860'],\n",
       "       ['11e', '75.0', '3.0', '794250'],\n",
       "       ['16e', '110.0', '4.0', '1295900'],\n",
       "       ['nan', '80.0', '3.0', '950000'],\n",
       "       ['15e', 'nan', '4.0', '1100000'],\n",
       "       ['1er', '40.0', '1.0', '5000000'],\n",
       "       ['14e', '200.0', '2.0', '300000'],\n",
       "       ['12e', '30.0', '10.0', '800000']], dtype='<U32')"
      ]
     },
     "execution_count": 84,
     "metadata": {},
     "output_type": "execute_result"
    }
   ],
   "source": [
    "dataset"
   ]
  },
  {
   "cell_type": "code",
   "execution_count": null,
   "metadata": {
    "id": "_TVy7j5LonXk"
   },
   "outputs": [],
   "source": []
  },
  {
   "cell_type": "code",
   "execution_count": null,
   "metadata": {
    "id": "aAOF26GgJZpw"
   },
   "outputs": [],
   "source": [
    "indices_nan = []\n",
    "for i in range(len(dataset)):\n",
    "  if np.isnan(surface[i]) or np.isnan(nombre_pieces[i] or arrondissement[i] == 'nan'):\n",
    "    indices_nan.append(i)"
   ]
  },
  {
   "cell_type": "code",
   "execution_count": null,
   "metadata": {
    "colab": {
     "base_uri": "https://localhost:8080/"
    },
    "id": "9gAssZ1koMMP",
    "outputId": "9f7d920d-52e2-4fd4-fbaa-4280d5d6f0e9"
   },
   "outputs": [
    {
     "data": {
      "text/plain": [
       "[3, 11]"
      ]
     },
     "execution_count": 82,
     "metadata": {},
     "output_type": "execute_result"
    }
   ],
   "source": [
    "indices_nan"
   ]
  },
  {
   "cell_type": "code",
   "execution_count": null,
   "metadata": {
    "colab": {
     "base_uri": "https://localhost:8080/"
    },
    "id": "TjSMG0qsMyRj",
    "outputId": "9bb0ebf9-d6c5-4c3c-8015-a3b9a49f8fcf"
   },
   "outputs": [
    {
     "data": {
      "text/plain": [
       "array([['6e', '85.0', '3.0', '1330250'],\n",
       "       ['18e', '55.0', '2.0', '381700'],\n",
       "       ['7e', '120.0', '4.0', '1858800'],\n",
       "       ['19e', '70.0', 'nan', '519400'],\n",
       "       ['8e', '150.0', '5.0', '2457000'],\n",
       "       ['13e', '65.0', '2.0', '491400'],\n",
       "       ['4e', '90.0', '3.0', '1420200'],\n",
       "       ['20e', '60.0', '2.0', '553860'],\n",
       "       ['11e', '75.0', '3.0', '794250'],\n",
       "       ['16e', '110.0', '4.0', '1295900'],\n",
       "       ['nan', '80.0', '3.0', '950000'],\n",
       "       ['15e', 'nan', '4.0', '1100000'],\n",
       "       ['1er', '40.0', '1.0', '5000000'],\n",
       "       ['14e', '200.0', '2.0', '300000'],\n",
       "       ['12e', '30.0', '10.0', '800000']], dtype='<U32')"
      ]
     },
     "execution_count": 86,
     "metadata": {},
     "output_type": "execute_result"
    }
   ],
   "source": [
    "dataset"
   ]
  },
  {
   "cell_type": "code",
   "execution_count": null,
   "metadata": {
    "colab": {
     "base_uri": "https://localhost:8080/"
    },
    "id": "NnnoUEBIOdm_",
    "outputId": "593f0fab-ed78-4dca-953b-43dee6ef6cbf"
   },
   "outputs": [
    {
     "data": {
      "text/plain": [
       "array([1463275.,  419870., 2044680.,  571340., 2702700.,  540540.,\n",
       "       1562220.,  609246.,  873675., 1425490., 1045000., 1210000.,\n",
       "       5500000.,  330000.,  880000.])"
      ]
     },
     "execution_count": 87,
     "metadata": {},
     "output_type": "execute_result"
    }
   ],
   "source": [
    "# Augmenter les prix de vente de 10 %\n",
    "prix_vente_augmentes = prix_vente * 1.1\n",
    "prix_vente_augmentes"
   ]
  },
  {
   "cell_type": "code",
   "execution_count": null,
   "metadata": {
    "id": "rEWhrQfGRmaf"
   },
   "outputs": [],
   "source": [
    "# Mission:\n",
    "\n",
    "# Générer des % aléatoires compris entre 5 % et 15 %\n",
    "pourcentage_renovation = np.random.uniform(0.05, 0.15, len(prix_vente))\n",
    "\n",
    "# Calculer les couts de rénovation\n",
    "cout_renovation = prix_vente_augmentes * pourcentage_renovation"
   ]
  },
  {
   "cell_type": "code",
   "execution_count": null,
   "metadata": {
    "colab": {
     "base_uri": "https://localhost:8080/"
    },
    "id": "M2HZW6sgmH-9",
    "outputId": "3ee045b0-7228-4f54-d350-a0a1270de5e2"
   },
   "outputs": [
    {
     "data": {
      "text/plain": [
       "array([161541.83005346,  45238.31146609, 170674.91176312,  65205.87771874,\n",
       "       328568.55147997,  45997.51335782, 116142.16467545,  53840.02411699,\n",
       "        54404.04072627, 138893.82477148,  76977.61595058,  98018.15263605,\n",
       "       316007.96359106,  43111.15300071,  82091.07107465])"
      ]
     },
     "execution_count": 91,
     "metadata": {},
     "output_type": "execute_result"
    }
   ],
   "source": [
    "cout_renovation"
   ]
  },
  {
   "cell_type": "code",
   "execution_count": null,
   "metadata": {
    "colab": {
     "base_uri": "https://localhost:8080/"
    },
    "id": "b7snHLB6TW7r",
    "outputId": "f92f44bc-ec27-4422-aa41-72b082b7cccd"
   },
   "outputs": [
    {
     "data": {
      "text/plain": [
       "array([['6e', '85.0', '3.0', '1330250', '161541.8300534599',\n",
       "        '1463275.0000000002', '161541.8300534599'],\n",
       "       ['18e', '55.0', '2.0', '381700', '45238.31146609198',\n",
       "        '419870.00000000006', '45238.31146609198'],\n",
       "       ['7e', '120.0', '4.0', '1858800', '170674.91176312068',\n",
       "        '2044680.0000000002', '170674.91176312068'],\n",
       "       ['19e', '70.0', 'nan', '519400', '65205.87771873851', '571340.0',\n",
       "        '65205.87771873851'],\n",
       "       ['8e', '150.0', '5.0', '2457000', '328568.55147996853',\n",
       "        '2702700.0', '328568.55147996853'],\n",
       "       ['13e', '65.0', '2.0', '491400', '45997.51335781962', '540540.0',\n",
       "        '45997.51335781962'],\n",
       "       ['4e', '90.0', '3.0', '1420200', '116142.16467544745',\n",
       "        '1562220.0000000002', '116142.16467544745'],\n",
       "       ['20e', '60.0', '2.0', '553860', '53840.02411699468', '609246.0',\n",
       "        '53840.02411699468'],\n",
       "       ['11e', '75.0', '3.0', '794250', '54404.04072627238',\n",
       "        '873675.0000000001', '54404.04072627238'],\n",
       "       ['16e', '110.0', '4.0', '1295900', '138893.82477148', '1425490.0',\n",
       "        '138893.82477148'],\n",
       "       ['nan', '80.0', '3.0', '950000', '76977.61595058205',\n",
       "        '1045000.0000000001', '76977.61595058205'],\n",
       "       ['15e', 'nan', '4.0', '1100000', '98018.1526360536', '1210000.0',\n",
       "        '98018.1526360536'],\n",
       "       ['1er', '40.0', '1.0', '5000000', '316007.96359106316',\n",
       "        '5500000.0', '316007.96359106316'],\n",
       "       ['14e', '200.0', '2.0', '300000', '43111.15300070577', '330000.0',\n",
       "        '43111.15300070577'],\n",
       "       ['12e', '30.0', '10.0', '800000', '82091.07107464921',\n",
       "        '880000.0000000001', '82091.07107464921']], dtype='<U32')"
      ]
     },
     "execution_count": 93,
     "metadata": {},
     "output_type": "execute_result"
    }
   ],
   "source": [
    "dataset = np.column_stack((dataset, prix_vente_augmentes, cout_renovation))\n",
    "dataset"
   ]
  },
  {
   "cell_type": "code",
   "execution_count": null,
   "metadata": {
    "id": "L_yy_IwCqcFF"
   },
   "outputs": [],
   "source": []
  },
  {
   "cell_type": "code",
   "execution_count": null,
   "metadata": {
    "colab": {
     "base_uri": "https://localhost:8080/"
    },
    "id": "WorUGWlzqcBA",
    "outputId": "24636a87-61d8-4112-ac64-f7a4c30f7263"
   },
   "outputs": [
    {
     "data": {
      "text/plain": [
       "array([['6e', '85.0', '3.0', '1330250', '161541.8300534599',\n",
       "        '1463275.0000000002', '161541.8300534599', '1795837.5000000002'],\n",
       "       ['18e', '55.0', '2.0', '381700', '45238.31146609198',\n",
       "        '419870.00000000006', '45238.31146609198', '515295.00000000006'],\n",
       "       ['7e', '120.0', '4.0', '1858800', '170674.91176312068',\n",
       "        '2044680.0000000002', '170674.91176312068', '2509380.0'],\n",
       "       ['19e', '70.0', 'nan', '519400', '65205.87771873851', '571340.0',\n",
       "        '65205.87771873851', '701190.0'],\n",
       "       ['8e', '150.0', '5.0', '2457000', '328568.55147996853',\n",
       "        '2702700.0', '328568.55147996853', '3316950.0'],\n",
       "       ['13e', '65.0', '2.0', '491400', '45997.51335781962', '540540.0',\n",
       "        '45997.51335781962', '663390.0'],\n",
       "       ['4e', '90.0', '3.0', '1420200', '116142.16467544745',\n",
       "        '1562220.0000000002', '116142.16467544745', '1917270.0000000002'],\n",
       "       ['20e', '60.0', '2.0', '553860', '53840.02411699468', '609246.0',\n",
       "        '53840.02411699468', '747711.0'],\n",
       "       ['11e', '75.0', '3.0', '794250', '54404.04072627238',\n",
       "        '873675.0000000001', '54404.04072627238', '1072237.5'],\n",
       "       ['16e', '110.0', '4.0', '1295900', '138893.82477148', '1425490.0',\n",
       "        '138893.82477148', '1749465.0'],\n",
       "       ['nan', '80.0', '3.0', '950000', '76977.61595058205',\n",
       "        '1045000.0000000001', '76977.61595058205', '1282500.0'],\n",
       "       ['15e', 'nan', '4.0', '1100000', '98018.1526360536', '1210000.0',\n",
       "        '98018.1526360536', '1485000.0'],\n",
       "       ['1er', '40.0', '1.0', '5000000', '316007.96359106316',\n",
       "        '5500000.0', '316007.96359106316', '6750000.0'],\n",
       "       ['14e', '200.0', '2.0', '300000', '43111.15300070577', '330000.0',\n",
       "        '43111.15300070577', '405000.0'],\n",
       "       ['12e', '30.0', '10.0', '800000', '82091.07107464921',\n",
       "        '880000.0000000001', '82091.07107464921', '1080000.0']],\n",
       "      dtype='<U32')"
      ]
     },
     "execution_count": 95,
     "metadata": {},
     "output_type": "execute_result"
    }
   ],
   "source": [
    "# calculer le nouveau prix après rénovation\n",
    "nouveau_prix = prix_vente * 1.35\n",
    "\n",
    "# stack\n",
    "dataset = np.column_stack((dataset, nouveau_prix))\n",
    "dataset"
   ]
  },
  {
   "cell_type": "code",
   "execution_count": null,
   "metadata": {
    "id": "AhyMls7yqb9P"
   },
   "outputs": [],
   "source": []
  },
  {
   "cell_type": "code",
   "execution_count": null,
   "metadata": {
    "id": "lTJ941c6qb5N"
   },
   "outputs": [],
   "source": [
    "# calculer les loyers avant et apres rénovation\n",
    "loyer_avant = (prix_vente*0.03)/12\n",
    "loyer_apres = (prix_vente_augmentes * 0.035)/12"
   ]
  },
  {
   "cell_type": "code",
   "execution_count": null,
   "metadata": {
    "id": "AVGoXCYEqb2e"
   },
   "outputs": [],
   "source": [
    "dataset = np.column_stack((dataset, loyer_avant, loyer_apres))"
   ]
  },
  {
   "cell_type": "code",
   "execution_count": null,
   "metadata": {
    "colab": {
     "base_uri": "https://localhost:8080/"
    },
    "id": "qsxKYy48qb0I",
    "outputId": "4bc38145-19ed-4941-918b-0a6f6f178f35"
   },
   "outputs": [
    {
     "name": "stdout",
     "output_type": "stream",
     "text": [
      "[1 0 1 0 1 0]\n"
     ]
    }
   ],
   "source": [
    "# Mask\n",
    "\n",
    "array = np.array([1,2,3,4,5,6])\n",
    "mask = array % 2 #division euclidienne\n",
    "print(mask)"
   ]
  },
  {
   "cell_type": "code",
   "execution_count": null,
   "metadata": {
    "colab": {
     "base_uri": "https://localhost:8080/"
    },
    "id": "9cxljgKWvRDW",
    "outputId": "11fff26d-38d4-4d3b-846e-9a1256a97627"
   },
   "outputs": [
    {
     "data": {
      "text/plain": [
       "array([ True, False, False, False, False, False])"
      ]
     },
     "execution_count": 107,
     "metadata": {},
     "output_type": "execute_result"
    }
   ],
   "source": [
    "array < 2"
   ]
  },
  {
   "cell_type": "code",
   "execution_count": null,
   "metadata": {
    "colab": {
     "base_uri": "https://localhost:8080/"
    },
    "id": "jUzqHecbuw71",
    "outputId": "bbaf3aaf-2aaf-4b44-d654-b466d7c376da"
   },
   "outputs": [
    {
     "data": {
      "text/plain": [
       "array([0, 0, 3, 4, 5, 6])"
      ]
     },
     "execution_count": 109,
     "metadata": {},
     "output_type": "execute_result"
    }
   ],
   "source": [
    "# Mask exemple 2\n",
    "array [array <= 2 ] = 0\n",
    "array"
   ]
  },
  {
   "cell_type": "code",
   "execution_count": null,
   "metadata": {
    "id": "MpnVhI_Xu2Lx"
   },
   "outputs": [],
   "source": [
    " prix_marchandise = np.array ([10, 15, 3500, -2, 5]) #brosses à dents"
   ]
  },
  {
   "cell_type": "code",
   "execution_count": null,
   "metadata": {
    "colab": {
     "base_uri": "https://localhost:8080/"
    },
    "id": "3gji-Kydv0nY",
    "outputId": "c0f7cd86-9640-4c9f-b780-f48c9c7a440a"
   },
   "outputs": [
    {
     "data": {
      "text/plain": [
       "array([10, 15,  5])"
      ]
     },
     "execution_count": 113,
     "metadata": {},
     "output_type": "execute_result"
    }
   ],
   "source": [
    "mask = (prix_marchandise > 0) & (prix_marchandise < 100)\n",
    "prix_filtrés = prix_marchandise[mask]\n",
    "\n",
    "prix_filtres = prix_marchandise[(prix_marchandise > 0) & (prix_marchandise < 100) ]\n",
    "\n",
    "prix_filtrés"
   ]
  },
  {
   "cell_type": "code",
   "execution_count": null,
   "metadata": {
    "id": "CWf31adtxWb8"
   },
   "outputs": [],
   "source": []
  },
  {
   "cell_type": "code",
   "execution_count": null,
   "metadata": {
    "id": "_ASty04MxXQI"
   },
   "outputs": [],
   "source": [
    "# slicing & indexation:\n",
    "\n",
    "# array[start:stop(non inclus):step]"
   ]
  },
  {
   "cell_type": "code",
   "execution_count": null,
   "metadata": {
    "id": "tgH2qLb5yCbp"
   },
   "outputs": [],
   "source": [
    "# 1D\n",
    "array_1D = np.array([1,2,3,4,5,6,7,8])"
   ]
  },
  {
   "cell_type": "code",
   "execution_count": null,
   "metadata": {
    "colab": {
     "base_uri": "https://localhost:8080/"
    },
    "id": "wOkTuDXvyEXn",
    "outputId": "a575f498-2d61-48d1-c0ba-55a8317ccc87"
   },
   "outputs": [
    {
     "name": "stdout",
     "output_type": "stream",
     "text": [
      "[1 3 5 7]\n"
     ]
    }
   ],
   "source": [
    "print(array_1D[0:7:2])"
   ]
  },
  {
   "cell_type": "markdown",
   "metadata": {
    "id": "VpDqnT9503Fj"
   },
   "source": [
    "dans notre formule on a 0:5\n",
    "5 correspond au stop non inclus (indice 5) >> 6\n",
    "0 correspond au start >> 1"
   ]
  },
  {
   "cell_type": "markdown",
   "metadata": {
    "id": "MgMG_N0N03BE"
   },
   "source": []
  },
  {
   "cell_type": "code",
   "execution_count": null,
   "metadata": {
    "id": "6K5kzgKs01Ql"
   },
   "outputs": [],
   "source": []
  },
  {
   "cell_type": "code",
   "execution_count": null,
   "metadata": {
    "id": "OJ96Y-Xg01M3"
   },
   "outputs": [],
   "source": []
  },
  {
   "cell_type": "code",
   "execution_count": null,
   "metadata": {
    "colab": {
     "base_uri": "https://localhost:8080/"
    },
    "id": "RMrI_Vf4ytSq",
    "outputId": "034d5918-31a6-4037-ffa0-c77a916b820a"
   },
   "outputs": [
    {
     "name": "stdout",
     "output_type": "stream",
     "text": [
      "[3 4 5 6]\n"
     ]
    }
   ],
   "source": [
    "print(array_1D[2:6])"
   ]
  },
  {
   "cell_type": "code",
   "execution_count": null,
   "metadata": {
    "colab": {
     "base_uri": "https://localhost:8080/"
    },
    "id": "LYg45QkLzIkb",
    "outputId": "e74c5fee-e707-4b89-d439-df54cb5a40e3"
   },
   "outputs": [
    {
     "name": "stdout",
     "output_type": "stream",
     "text": [
      "[2 3 4 5 6 7 8]\n"
     ]
    }
   ],
   "source": [
    "print(array_1D[1:])"
   ]
  },
  {
   "cell_type": "code",
   "execution_count": null,
   "metadata": {
    "colab": {
     "base_uri": "https://localhost:8080/"
    },
    "id": "BhT592Mnzl3k",
    "outputId": "3a33c211-aa5e-437b-f98a-3e356d914646"
   },
   "outputs": [
    {
     "name": "stdout",
     "output_type": "stream",
     "text": [
      "[3 6]\n"
     ]
    }
   ],
   "source": [
    "# extraire les elements entre les indice 2 et 7 avec un pas de 3\n",
    "print(array_1D[2:7:3])"
   ]
  },
  {
   "cell_type": "code",
   "execution_count": null,
   "metadata": {
    "id": "sX4BhXyCz___"
   },
   "outputs": [],
   "source": [
    "\n"
   ]
  },
  {
   "cell_type": "markdown",
   "metadata": {
    "id": "yDrVutoI0im8"
   },
   "source": [
    "# Multidimensionnel n = 2\n",
    "\n",
    "# array[start1:stop1:step1, start2:stop2:step2]\n",
    "\n",
    "\n",
    "*   start1:stop1:step1 slicing de notre premiere dimension\n",
    "*   start2:stop2:step2 slicing de notre premiere dimension\n",
    "\n",
    "\n"
   ]
  },
  {
   "cell_type": "code",
   "execution_count": null,
   "metadata": {
    "colab": {
     "base_uri": "https://localhost:8080/"
    },
    "id": "TC8r7N4j1FCA",
    "outputId": "20baa05d-4050-4b54-f7a9-c59e6c343a84"
   },
   "outputs": [
    {
     "data": {
      "text/plain": [
       "array([[1, 2, 3],\n",
       "       [4, 5, 6],\n",
       "       [7, 8, 9]])"
      ]
     },
     "execution_count": 173,
     "metadata": {},
     "output_type": "execute_result"
    }
   ],
   "source": [
    "tableau_2D = np.array([[1,2,3],[4,5,6],[7, 8, 9]])\n",
    "tableau_2D\n",
    "\n",
    "# 1ligne / 1colonne c est des vecteurs 1D"
   ]
  },
  {
   "cell_type": "code",
   "execution_count": null,
   "metadata": {
    "colab": {
     "base_uri": "https://localhost:8080/"
    },
    "id": "8oOjPYPj1kvb",
    "outputId": "b7d3b5aa-78d4-40ae-e258-3223116705a3"
   },
   "outputs": [
    {
     "name": "stdout",
     "output_type": "stream",
     "text": [
      "[1 4 7]\n"
     ]
    }
   ],
   "source": [
    "# la première colonne\n",
    "print(tableau_2D[: , 0])"
   ]
  },
  {
   "cell_type": "code",
   "execution_count": null,
   "metadata": {
    "id": "olDZtDou6KvG"
   },
   "outputs": [],
   "source": [
    "# la première ligne\n",
    "print(tableau_2D[0, :])"
   ]
  },
  {
   "cell_type": "code",
   "execution_count": null,
   "metadata": {
    "colab": {
     "base_uri": "https://localhost:8080/"
    },
    "id": "EqZMB59B7_WM",
    "outputId": "faa55ada-2e26-41d4-bfdb-e636378e7143"
   },
   "outputs": [
    {
     "name": "stdout",
     "output_type": "stream",
     "text": [
      "6\n"
     ]
    }
   ],
   "source": [
    "# quel est l element qui appartient à la seconde(1) ligne et la 3 eme colonne(2)\n",
    "print(tableau_2D[1,-1])"
   ]
  },
  {
   "cell_type": "markdown",
   "metadata": {
    "id": "ZeNawJpQG7a0"
   },
   "source": [
    "*features* == colonne\n",
    "*individu* == lignes\n",
    "\n",
    "\"sportif JO\" et on veut tous les ages de tous sportif sans répitition"
   ]
  },
  {
   "cell_type": "code",
   "execution_count": null,
   "metadata": {
    "colab": {
     "base_uri": "https://localhost:8080/"
    },
    "id": "Y24XVbyw8v3b",
    "outputId": "9b927f46-6bd9-4bd8-cdf2-79e1e135117b"
   },
   "outputs": [
    {
     "name": "stdout",
     "output_type": "stream",
     "text": [
      "[[1 3]\n",
      " [4 6]\n",
      " [7 9]]\n"
     ]
    }
   ],
   "source": [
    "# tous les element de la 1 ere et la derniere colonne\n",
    "print(tableau_2D[:,[0,-1]])"
   ]
  },
  {
   "cell_type": "code",
   "execution_count": null,
   "metadata": {
    "colab": {
     "base_uri": "https://localhost:8080/"
    },
    "id": "LAoXgp3S-9dL",
    "outputId": "95a43313-d576-47af-cf4e-197b3b173691"
   },
   "outputs": [
    {
     "data": {
      "text/plain": [
       "array([1, 2, 3, 6, 9])"
      ]
     },
     "execution_count": 163,
     "metadata": {},
     "output_type": "execute_result"
    }
   ],
   "source": [
    "# tous les element de la 1 ere ligne et tous les elements de la derniere colonne\n",
    "1 #  tous les elements  de la L1 + avoir tous les element de C2\n",
    "result = np.concatenate((tableau_2D[0, :], tableau_2D[:,-1]))\n",
    "result = np.unique(result)\n",
    "result\n"
   ]
  },
  {
   "cell_type": "code",
   "execution_count": null,
   "metadata": {
    "id": "wA2lgI2g11Bz"
   },
   "outputs": [],
   "source": [
    "# kaggle\n",
    "# paperwithcode state of art"
   ]
  },
  {
   "cell_type": "code",
   "execution_count": null,
   "metadata": {
    "colab": {
     "base_uri": "https://localhost:8080/"
    },
    "id": "q9skftAFIkM6",
    "outputId": "46fd6282-c14a-4e06-a2d9-7805603d768b"
   },
   "outputs": [
    {
     "data": {
      "text/plain": [
       "array([[0.5, 1. , 1.5],\n",
       "       [2. , 2.5, 3. ],\n",
       "       [3.5, 4. , 4.5]])"
      ]
     },
     "execution_count": 174,
     "metadata": {},
     "output_type": "execute_result"
    }
   ],
   "source": [
    "tableau_2D = tableau_2D/2\n",
    "tableau_2D"
   ]
  },
  {
   "cell_type": "code",
   "execution_count": null,
   "metadata": {
    "id": "HIcpqTQtKrXj"
   },
   "outputs": [],
   "source": [
    "# Stack\n",
    "arrondissement = dataset [:, 0]\n",
    "surface = dataset[:, 1].astype(float).reshape(-1,1)\n"
   ]
  },
  {
   "cell_type": "code",
   "execution_count": null,
   "metadata": {
    "colab": {
     "base_uri": "https://localhost:8080/"
    },
    "id": "gnQ1jCNnNWbP",
    "outputId": "a34aca94-6d3e-4d96-b482-a1af235d7c5c"
   },
   "outputs": [
    {
     "data": {
      "text/plain": [
       "array(['85.0', '55.0', '120.0', '70.0', '150.0', '65.0', '90.0', '60.0',\n",
       "       '75.0', '110.0', '80.0', 'nan', '40.0', '200.0', '30.0'],\n",
       "      dtype='<U32')"
      ]
     },
     "execution_count": 194,
     "metadata": {},
     "output_type": "execute_result"
    }
   ],
   "source": [
    "dataset[:, 1]"
   ]
  },
  {
   "cell_type": "code",
   "execution_count": null,
   "metadata": {
    "colab": {
     "base_uri": "https://localhost:8080/"
    },
    "id": "fVe3hdPoM0fH",
    "outputId": "6f0f4d0c-674e-4e4d-cc63-bae41b6c2468"
   },
   "outputs": [
    {
     "data": {
      "text/plain": [
       "array([[ 3.],\n",
       "       [ 2.],\n",
       "       [ 4.],\n",
       "       [nan],\n",
       "       [ 5.],\n",
       "       [ 2.],\n",
       "       [ 3.],\n",
       "       [ 2.],\n",
       "       [ 3.],\n",
       "       [ 4.],\n",
       "       [ 3.],\n",
       "       [ 4.],\n",
       "       [ 1.],\n",
       "       [ 2.],\n",
       "       [10.]])"
      ]
     },
     "execution_count": 192,
     "metadata": {},
     "output_type": "execute_result"
    }
   ],
   "source": [
    "surface"
   ]
  },
  {
   "cell_type": "code",
   "execution_count": null,
   "metadata": {
    "colab": {
     "base_uri": "https://localhost:8080/"
    },
    "id": "ACptPjUHMnQu",
    "outputId": "6827cf0e-6451-4110-f95a-34e63c72938f"
   },
   "outputs": [
    {
     "data": {
      "text/plain": [
       "array([['6e', '85.0'],\n",
       "       ['18e', '55.0'],\n",
       "       ['7e', '120.0'],\n",
       "       ['19e', '70.0'],\n",
       "       ['8e', '150.0'],\n",
       "       ['13e', '65.0'],\n",
       "       ['4e', '90.0'],\n",
       "       ['20e', '60.0'],\n",
       "       ['11e', '75.0'],\n",
       "       ['16e', '110.0'],\n",
       "       ['nan', '80.0'],\n",
       "       ['15e', 'nan'],\n",
       "       ['1er', '40.0'],\n",
       "       ['14e', '200.0'],\n",
       "       ['12e', '30.0']], dtype='<U32')"
      ]
     },
     "execution_count": 197,
     "metadata": {},
     "output_type": "execute_result"
    }
   ],
   "source": [
    "tableau_arr_surface = np.hstack((arrondissement.reshape(-1, 1), surface))\n",
    "tableau_arr_surface\n"
   ]
  },
  {
   "cell_type": "code",
   "execution_count": null,
   "metadata": {
    "colab": {
     "base_uri": "https://localhost:8080/"
    },
    "id": "MiBWvMyXPf2z",
    "outputId": "7f73b072-818c-4bbc-f33b-4a273d33c85b"
   },
   "outputs": [
    {
     "data": {
      "text/plain": [
       "(15, 2)"
      ]
     },
     "execution_count": 206,
     "metadata": {},
     "output_type": "execute_result"
    }
   ],
   "source": [
    "tableau_arr_surface.shape"
   ]
  },
  {
   "cell_type": "code",
   "execution_count": null,
   "metadata": {
    "colab": {
     "base_uri": "https://localhost:8080/"
    },
    "id": "ArEgCeJKMsZE",
    "outputId": "92883927-8a83-4ea5-fd3c-d916de3262ce"
   },
   "outputs": [
    {
     "data": {
      "text/plain": [
       "(15, 1)"
      ]
     },
     "execution_count": 204,
     "metadata": {},
     "output_type": "execute_result"
    }
   ],
   "source": [
    "prix_vente.reshape(-1,1).shape"
   ]
  },
  {
   "cell_type": "code",
   "execution_count": null,
   "metadata": {
    "colab": {
     "base_uri": "https://localhost:8080/"
    },
    "id": "ZCYdyicVOhmP",
    "outputId": "bfbfd20a-5b90-4c95-fc95-bd6f5c2fc2e5"
   },
   "outputs": [
    {
     "data": {
      "text/plain": [
       "array([['6e', '85.0', '1330250'],\n",
       "       ['18e', '55.0', '381700'],\n",
       "       ['7e', '120.0', '1858800'],\n",
       "       ['19e', '70.0', '519400'],\n",
       "       ['8e', '150.0', '2457000'],\n",
       "       ['13e', '65.0', '491400'],\n",
       "       ['4e', '90.0', '1420200'],\n",
       "       ['20e', '60.0', '553860'],\n",
       "       ['11e', '75.0', '794250'],\n",
       "       ['16e', '110.0', '1295900'],\n",
       "       ['nan', '80.0', '950000'],\n",
       "       ['15e', 'nan', '1100000'],\n",
       "       ['1er', '40.0', '5000000'],\n",
       "       ['14e', '200.0', '300000'],\n",
       "       ['12e', '30.0', '800000']], dtype='<U32')"
      ]
     },
     "execution_count": 205,
     "metadata": {},
     "output_type": "execute_result"
    }
   ],
   "source": [
    "tableau_fusionné = np.hstack((tableau_arr_surface, prix_vente.reshape(-1,1)))\n",
    "tableau_fusionné"
   ]
  },
  {
   "cell_type": "code",
   "execution_count": null,
   "metadata": {
    "id": "bkZFbpM3P1f0"
   },
   "outputs": [],
   "source": []
  },
  {
   "cell_type": "markdown",
   "metadata": {
    "id": "otMdIWXXP6XN"
   },
   "source": [
    "Mme leroy\n",
    "profil: jeune professionnelle\n",
    "capital: 350000\n",
    "contraintes:\n",
    "\n",
    "\n",
    "1.   studio ou T1 (1 ou 2 piece)\n",
    "2.   prix au m² inférieur à 10 000 euro\n",
    "3.   situé dans les arrondissements centraux (1,2,3,4)\n",
    "4.   loyer mensuel minimum de 1200 euro\n",
    "\n",
    "\n",
    "filtrer les appartements pour Mme leroy !\n",
    "\n",
    "\n"
   ]
  },
  {
   "cell_type": "code",
   "execution_count": null,
   "metadata": {
    "id": "x_lKLcqeP6FW"
   },
   "outputs": [],
   "source": []
  },
  {
   "cell_type": "code",
   "execution_count": null,
   "metadata": {
    "id": "QnBdOupWRCOL"
   },
   "outputs": [],
   "source": [
    "# mask pour nan\n",
    "mask_surface = np.isnan(surface)\n",
    "mask_nombre_pieces = np.isnan(nombre_pieces)"
   ]
  },
  {
   "cell_type": "code",
   "execution_count": null,
   "metadata": {
    "id": "hHMexvuIRCH6"
   },
   "outputs": [],
   "source": [
    "mask_nan = mask_surface | mask_nombre_pieces # ou\n",
    "indices_nan = np.where(mask_nan)[0]\n",
    "\n",
    "# une fois l indice obtenu, on suprime de l index de notre dataset"
   ]
  },
  {
   "cell_type": "code",
   "execution_count": null,
   "metadata": {
    "id": "66PzLZViSkY8"
   },
   "outputs": [],
   "source": [
    "valid_mask = ~mask_surface & ~mask_nombre_pieces # et"
   ]
  },
  {
   "cell_type": "code",
   "execution_count": null,
   "metadata": {
    "id": "kGfkVPaxxalk"
   },
   "outputs": [],
   "source": []
  },
  {
   "cell_type": "code",
   "execution_count": null,
   "metadata": {
    "id": "tMDVXI6LyEAo"
   },
   "outputs": [],
   "source": []
  },
  {
   "cell_type": "code",
   "execution_count": null,
   "metadata": {
    "id": "IvpJFMt9yD9g"
   },
   "outputs": [],
   "source": []
  },
  {
   "cell_type": "code",
   "execution_count": null,
   "metadata": {
    "colab": {
     "base_uri": "https://localhost:8080/"
    },
    "id": "CpZIeWcWyD4a",
    "outputId": "10002e6d-5a74-4a7f-d0e3-cbf8a70154f6"
   },
   "outputs": [
    {
     "name": "stdout",
     "output_type": "stream",
     "text": [
      "10\n"
     ]
    }
   ],
   "source": [
    "# Somme des éléments d'un tableau\n",
    "\n",
    "# reduce(array)\n",
    "a = np.array([1, 2, 3, 4])\n",
    "\n",
    "result = np.add.reduce(a) # Applique l'additon cumulée\n",
    "print(result) # 10 (1 + 2 + 3 + 4)\n"
   ]
  },
  {
   "cell_type": "code",
   "execution_count": null,
   "metadata": {
    "colab": {
     "base_uri": "https://localhost:8080/"
    },
    "id": "yNu-pxpG6qE6",
    "outputId": "ff68f3cc-b10f-4010-9449-cd4d8d684229"
   },
   "outputs": [
    {
     "name": "stdout",
     "output_type": "stream",
     "text": [
      "opération avec Add sur tableau a: [2 4 6 8]\n",
      "opération avec Add + accumulate sur tableau a: [ 1  3  6 10]\n",
      "opération avec multiply + accumulatesur tableau a: [ 1  2  6 24]\n"
     ]
    }
   ],
   "source": [
    "# Accumulate\n",
    "# Somme Accumulate\n",
    "#Calcule les résultats cumulé le long d'un axe\n",
    "\n",
    "a = np.array([1,2,3,4])\n",
    "result = np.add(a, a)\n",
    "result2 = np.add.accumulate(a)\n",
    "result3 = np.multiply.accumulate(a)\n",
    "\n",
    "print(\"opération avec Add sur tableau a:\", result)\n",
    "print(\"opération avec Add + accumulate sur tableau a:\", result2)\n",
    "print(\"opération avec multiply + accumulatesur tableau a:\", result3)\n"
   ]
  },
  {
   "cell_type": "code",
   "execution_count": null,
   "metadata": {
    "colab": {
     "base_uri": "https://localhost:8080/"
    },
    "id": "xFLizSb19SLX",
    "outputId": "436f28d5-96f9-4a3c-c586-ce50ec7b1710"
   },
   "outputs": [
    {
     "name": "stdout",
     "output_type": "stream",
     "text": [
      "[2 4]\n"
     ]
    }
   ],
   "source": [
    "# Accumulate\n",
    "# Somme Accumulate\n",
    "#Calcule les résultats cumulé le long d'un axe\n",
    "\n",
    "a = np.array([1,2])\n",
    "b = np.array([0,1])\n",
    "result = np.add(a, a)\n",
    "print(result)\n"
   ]
  },
  {
   "cell_type": "code",
   "execution_count": null,
   "metadata": {
    "colab": {
     "base_uri": "https://localhost:8080/"
    },
    "id": "5h95pXTk9SIZ",
    "outputId": "fccdafc9-d809-4765-80c5-fb2b3c310cb8"
   },
   "outputs": [
    {
     "name": "stdout",
     "output_type": "stream",
     "text": [
      "addition: [ 5  7  9 11]\n",
      "soustraction [-3 -3 -3 -3]\n",
      "multiplicationb [ 4 10 18 28]\n",
      "division [0.25       0.4        0.5        0.57142857]\n"
     ]
    }
   ],
   "source": [
    "# Mathématiques de base\n",
    "# https://numpy.org/devdocs/reference/ufuncs.html\n",
    "\n",
    "# addition soustraction multiplication et la division\n",
    "\n",
    "a = np.array([1,2,3, 4])\n",
    "b = np.array([4,5,6,7])\n",
    "\n",
    "\n",
    "print(\"addition:\", np.add(a, b))\n",
    "print(\"soustraction\", np.subtract(a, b))\n",
    "print(\"multiplicationb\", np.multiply(a,b))\n",
    "print(\"division\", np.divide(a, b))\n"
   ]
  },
  {
   "cell_type": "code",
   "execution_count": null,
   "metadata": {
    "colab": {
     "base_uri": "https://localhost:8080/"
    },
    "id": "q5Gh9rIo9SFY",
    "outputId": "82184d44-5430-4dc3-d01b-1b14e57196a0"
   },
   "outputs": [
    {
     "data": {
      "text/plain": [
       "array([ 1,  2,  6, 24])"
      ]
     },
     "execution_count": 29,
     "metadata": {},
     "output_type": "execute_result"
    }
   ],
   "source": [
    "np.multiply.accumulate(a)"
   ]
  },
  {
   "cell_type": "code",
   "execution_count": null,
   "metadata": {
    "colab": {
     "base_uri": "https://localhost:8080/"
    },
    "id": "jBhf4fpfCK_S",
    "outputId": "569f292a-6697-4278-ff3f-c9423899d988"
   },
   "outputs": [
    {
     "data": {
      "text/plain": [
       "3.141592653589793"
      ]
     },
     "execution_count": 35,
     "metadata": {},
     "output_type": "execute_result"
    }
   ],
   "source": [
    "np.pi"
   ]
  },
  {
   "cell_type": "code",
   "execution_count": null,
   "metadata": {
    "colab": {
     "base_uri": "https://localhost:8080/"
    },
    "id": "Mnbx9tCpBQ-9",
    "outputId": "dfc55961-bef3-4123-fdac-99e7961b9a5f"
   },
   "outputs": [
    {
     "name": "stdout",
     "output_type": "stream",
     "text": [
      "[0.0000000e+00 1.0000000e+00 1.2246468e-16]\n",
      "[ 1.000000e+00  6.123234e-17 -1.000000e+00]\n",
      "[ 0.00000000e+00  1.63312394e+16 -1.22464680e-16]\n"
     ]
    }
   ],
   "source": [
    "# Trigo\n",
    "# np.sin, np.cos, np.tan\n",
    "\n",
    "angles = np.array([0, np.pi/2, np.pi])\n",
    "\n",
    "# Sinus\n",
    "print(np.sin(angles))\n",
    "print(np.cos(angles))\n",
    "print(np.tan(angles))\n"
   ]
  },
  {
   "cell_type": "code",
   "execution_count": null,
   "metadata": {
    "colab": {
     "base_uri": "https://localhost:8080/"
    },
    "id": "KawOh25wH3dE",
    "outputId": "8f830b17-df68-432d-b2ce-8d65e4401bf7"
   },
   "outputs": [
    {
     "data": {
      "text/plain": [
       "array([1, 2, 3, 4])"
      ]
     },
     "execution_count": 41,
     "metadata": {},
     "output_type": "execute_result"
    }
   ],
   "source": [
    "a"
   ]
  },
  {
   "cell_type": "code",
   "execution_count": null,
   "metadata": {
    "id": "g2xAxYzoH3Vi"
   },
   "outputs": [],
   "source": []
  },
  {
   "cell_type": "code",
   "execution_count": null,
   "metadata": {
    "colab": {
     "base_uri": "https://localhost:8080/"
    },
    "id": "SVwDZt9rCjbE",
    "outputId": "19fbc9e8-4db0-4703-ea15-cdbd118396c6"
   },
   "outputs": [
    {
     "name": "stdout",
     "output_type": "stream",
     "text": [
      "[ 2.71828183  7.3890561  20.08553692 54.59815003]\n",
      "[0.         0.69314718 1.09861229 1.38629436]\n"
     ]
    }
   ],
   "source": [
    "# exponentielle et logarithmes\n",
    "\n",
    "\n",
    "print(np.exp(a))\n",
    "print(np.log(a))"
   ]
  },
  {
   "cell_type": "code",
   "execution_count": null,
   "metadata": {
    "colab": {
     "base_uri": "https://localhost:8080/"
    },
    "id": "vKgttC2YIKmD",
    "outputId": "3fd5a801-eab8-4ea2-d6ff-67f51995cd42"
   },
   "outputs": [
    {
     "data": {
      "text/plain": [
       "array([4, 5, 6, 7])"
      ]
     },
     "execution_count": 43,
     "metadata": {},
     "output_type": "execute_result"
    }
   ],
   "source": [
    "b"
   ]
  },
  {
   "cell_type": "code",
   "execution_count": null,
   "metadata": {
    "colab": {
     "base_uri": "https://localhost:8080/"
    },
    "id": "HGsDOBVRIFYB",
    "outputId": "eca8e183-03fb-4452-c3f5-e85b88b89e10"
   },
   "outputs": [
    {
     "name": "stdout",
     "output_type": "stream",
     "text": [
      "[False False False False]\n",
      "[False False False False]\n",
      "[ True  True  True  True]\n"
     ]
    }
   ],
   "source": [
    "# comparaison\n",
    "# superieur = greater\n",
    "print(np.greater(a,a))\n",
    "# inferieur = less\n",
    "print(np.less(a, a))\n",
    "# égal = equal\n",
    "print(np.equal(a,a))\n"
   ]
  },
  {
   "cell_type": "code",
   "execution_count": null,
   "metadata": {
    "id": "ULLE8UlII1jH"
   },
   "outputs": [],
   "source": []
  },
  {
   "cell_type": "code",
   "execution_count": null,
   "metadata": {
    "id": "uZlCkcOEI6nB"
   },
   "outputs": [],
   "source": [
    "# Création des colonnes\n",
    "arrondissement = np.array([\"6e\", \"18e\", \"7e\", \"19e\", \"8e\", \"13e\", \"4e\", \"20e\", \"11e\", \"16e\", \"2e\",\n",
    "\"15e\", \"1er\", \"14e\", \"12e\"])\n",
    "\n",
    "surface = np.array([85, 55, 120, 70, 150, 65, 90, 60, 75, 110, 80, np.nan, 40, 200, 30])\n",
    "\n",
    "nombre_pieces = np.array([3, 2, 4, np.nan, 5, 2, 3, 2, 3, 4, 3, 4, 1, 2, 10])\n",
    "\n",
    "prix_vente = np.array([1330250, 381700, 1858800, 519400, 2457000, 491400, 1420200, 553860, 794250,\n",
    "1295900, 950000, 1100000, 5000000, 300000, 800000])\n",
    "\n",
    "# Combiner les colonnes dans un tableau NumPy\n",
    "dataset = np.column_stack((arrondissement, surface, nombre_pieces, prix_vente))"
   ]
  },
  {
   "cell_type": "code",
   "execution_count": null,
   "metadata": {
    "colab": {
     "base_uri": "https://localhost:8080/"
    },
    "id": "8NJErkZ2JbIa",
    "outputId": "a934b1cc-0109-40a7-c6c4-134668a39459"
   },
   "outputs": [
    {
     "data": {
      "text/plain": [
       "array([['6e', '85.0', '3.0', '1330250'],\n",
       "       ['18e', '55.0', '2.0', '381700'],\n",
       "       ['7e', '120.0', '4.0', '1858800'],\n",
       "       ['19e', '70.0', 'nan', '519400'],\n",
       "       ['8e', '150.0', '5.0', '2457000'],\n",
       "       ['13e', '65.0', '2.0', '491400'],\n",
       "       ['4e', '90.0', '3.0', '1420200'],\n",
       "       ['20e', '60.0', '2.0', '553860'],\n",
       "       ['11e', '75.0', '3.0', '794250'],\n",
       "       ['16e', '110.0', '4.0', '1295900'],\n",
       "       ['nan', '80.0', '3.0', '950000'],\n",
       "       ['15e', 'nan', '4.0', '1100000'],\n",
       "       ['1er', '40.0', '1.0', '5000000'],\n",
       "       ['14e', '200.0', '2.0', '300000'],\n",
       "       ['12e', '30.0', '10.0', '800000']], dtype='<U32')"
      ]
     },
     "execution_count": 145,
     "metadata": {},
     "output_type": "execute_result"
    }
   ],
   "source": [
    "dataset"
   ]
  },
  {
   "cell_type": "code",
   "execution_count": null,
   "metadata": {
    "colab": {
     "base_uri": "https://localhost:8080/"
    },
    "id": "02GGLcG-rcSe",
    "outputId": "3ec0e80e-c99e-4d0b-e790-cc8ac07965a3"
   },
   "outputs": [
    {
     "data": {
      "text/plain": [
       "array([[8.50000e+01, 3.00000e+00, 1.33025e+06],\n",
       "       [5.50000e+01, 2.00000e+00, 3.81700e+05],\n",
       "       [1.20000e+02, 4.00000e+00, 1.85880e+06],\n",
       "       [1.50000e+02, 5.00000e+00, 2.45700e+06],\n",
       "       [6.50000e+01, 2.00000e+00, 4.91400e+05],\n",
       "       [9.00000e+01, 3.00000e+00, 1.42020e+06],\n",
       "       [6.00000e+01, 2.00000e+00, 5.53860e+05],\n",
       "       [7.50000e+01, 3.00000e+00, 7.94250e+05],\n",
       "       [1.10000e+02, 4.00000e+00, 1.29590e+06],\n",
       "       [8.00000e+01, 3.00000e+00, 9.50000e+05],\n",
       "       [4.00000e+01, 1.00000e+00, 5.00000e+06],\n",
       "       [2.00000e+02, 2.00000e+00, 3.00000e+05],\n",
       "       [3.00000e+01, 1.00000e+01, 8.00000e+05]])"
      ]
     },
     "execution_count": 138,
     "metadata": {},
     "output_type": "execute_result"
    }
   ],
   "source": [
    "# on calcule la moyenne en ignorant les nan pour chaque colonne\n",
    "Col_means = np.nanmean(data, axis = 0)\n",
    "# on remplace les nan par la moyenne corespondante\n",
    "indice_nan = np.isnan(data)\n",
    "data[indice_nan] = np.take(Col_means, np.where(indice_nan)[1])\n",
    "data"
   ]
  },
  {
   "cell_type": "code",
   "execution_count": null,
   "metadata": {
    "id": "tD0voGpgrcJ9"
   },
   "outputs": [],
   "source": []
  },
  {
   "cell_type": "code",
   "execution_count": null,
   "metadata": {
    "colab": {
     "base_uri": "https://localhost:8080/"
    },
    "id": "GezZKlGRJfIl",
    "outputId": "ac250198-4bea-4149-d468-abcc9556b13a"
   },
   "outputs": [
    {
     "name": "stdout",
     "output_type": "stream",
     "text": [
      "[ 15650.           6940.          15490.           7420.\n",
      "  16380.           7560.          15780.           9231.\n",
      "  10590.          11780.90909091  11875.                     nan\n",
      " 125000.           1500.          26666.66666667]\n"
     ]
    }
   ],
   "source": [
    "# calculer le prix au m² pour chaque bien immobilier\n",
    "# utiliser une ufunc pour divisier le prix de vente par la surface\n",
    "\n",
    "# prix_m_carre = prix de vente / surface\n",
    "print(np.divide(prix_vente, surface))"
   ]
  },
  {
   "cell_type": "code",
   "execution_count": null,
   "metadata": {
    "id": "0kh_WkV9LQud"
   },
   "outputs": [],
   "source": [
    "c = np.array([1,2,3,4, np.nan])"
   ]
  },
  {
   "cell_type": "code",
   "execution_count": null,
   "metadata": {
    "colab": {
     "base_uri": "https://localhost:8080/"
    },
    "id": "CqCqcYWyLg7Y",
    "outputId": "f6c82429-ac55-4d4d-9c5c-79edd239cc4b"
   },
   "outputs": [
    {
     "data": {
      "text/plain": [
       "2.5"
      ]
     },
     "execution_count": 60,
     "metadata": {},
     "output_type": "execute_result"
    }
   ],
   "source": [
    "moyenne = (1+2+3+4)/4\n",
    "moyenne"
   ]
  },
  {
   "cell_type": "code",
   "execution_count": null,
   "metadata": {
    "colab": {
     "base_uri": "https://localhost:8080/"
    },
    "id": "RgIrj_fYMIXo",
    "outputId": "3afcc8cb-092e-447a-8bc6-6462c23d340a"
   },
   "outputs": [
    {
     "data": {
      "text/plain": [
       "2.5"
      ]
     },
     "execution_count": 61,
     "metadata": {},
     "output_type": "execute_result"
    }
   ],
   "source": [
    "c2 = np.array([1,2,3,4,2.5])\n",
    "moyenne_c2 = (1+2+3+4+2.5)/5\n",
    "moyenne_c2"
   ]
  },
  {
   "cell_type": "code",
   "execution_count": null,
   "metadata": {
    "id": "8OTyciufNjmm"
   },
   "outputs": [],
   "source": [
    "# traitement des nan:\n",
    "# on va remplacer les nan par la moyenne de la colonne\n",
    "\n",
    "surface_moyenne = np.nanmean(surface)\n",
    "prix_vente_moyenne = np.nanmean(prix_vente)"
   ]
  },
  {
   "cell_type": "code",
   "execution_count": null,
   "metadata": {
    "colab": {
     "base_uri": "https://localhost:8080/"
    },
    "id": "LMC2VV7GUM31",
    "outputId": "126cf98f-4cd5-494e-9a3a-48571eb07dfd"
   },
   "outputs": [
    {
     "data": {
      "text/plain": [
       "(array([11]),)"
      ]
     },
     "execution_count": 87,
     "metadata": {},
     "output_type": "execute_result"
    }
   ],
   "source": [
    "np.where(np.isnan(surface))"
   ]
  },
  {
   "cell_type": "code",
   "execution_count": null,
   "metadata": {
    "collapsed": true,
    "id": "sGrOOXK1PPmz",
    "jupyter": {
     "outputs_hidden": true
    }
   },
   "outputs": [],
   "source": [
    "data = dataset.copy()\n",
    "\n",
    "# On a supprimé la première colonne\n",
    "data = np.delete(data, 0, axis = 1)\n",
    "data = np.delete(data, [3,11],axis = 0)\n",
    "\n",
    "# argument de delete : jeu de donnée, indice , axis)\n",
    "# axis = 0 >>>> lignes\n",
    "# axis = 1 >>>> colonnes\n",
    "\n",
    "data = np.array(data, dtype=float)"
   ]
  },
  {
   "cell_type": "code",
   "execution_count": null,
   "metadata": {
    "colab": {
     "base_uri": "https://localhost:8080/"
    },
    "id": "f-H0c90NWaVk",
    "outputId": "e175a189-af1e-4d22-de8e-feee1d6d6131"
   },
   "outputs": [
    {
     "data": {
      "text/plain": [
       "array([ 15650.        ,   6940.        ,  15490.        ,  16380.        ,\n",
       "         7560.        ,  15780.        ,   9231.        ,  10590.        ,\n",
       "        11780.90909091,  11875.        , 125000.        ,   1500.        ,\n",
       "        26666.66666667])"
      ]
     },
     "execution_count": 111,
     "metadata": {},
     "output_type": "execute_result"
    }
   ],
   "source": [
    "# calcul du metre carre\n",
    "price_m2 = np.divide(data[:,2], data[:,0])\n",
    "price_m2"
   ]
  },
  {
   "cell_type": "code",
   "execution_count": null,
   "metadata": {
    "colab": {
     "base_uri": "https://localhost:8080/"
    },
    "id": "UVj_ZcUDXm-m",
    "outputId": "2c60ec87-4de2-4b64-c865-3aa4809acaa0"
   },
   "outputs": [
    {
     "name": "stdout",
     "output_type": "stream",
     "text": [
      "total_Surface: 1160.0\n",
      "total_price: 17633360.0\n"
     ]
    }
   ],
   "source": [
    "# calculer la somme totale des surfaces et prix de vente\n",
    "\n",
    "print(\"total_Surface:\", np.sum(data[:,0]))\n",
    "print(\"total_price:\", np.sum(data[:,2]))"
   ]
  },
  {
   "cell_type": "code",
   "execution_count": null,
   "metadata": {
    "colab": {
     "base_uri": "https://localhost:8080/"
    },
    "id": "-y_HPnyGcgL2",
    "outputId": "b8ec898d-1f91-415e-8c1f-068c3a1bef23"
   },
   "outputs": [
    {
     "data": {
      "text/plain": [
       "array([[8.50000e+01, 3.00000e+00, 1.33025e+06],\n",
       "       [5.50000e+01, 2.00000e+00, 3.81700e+05],\n",
       "       [1.20000e+02, 4.00000e+00, 1.85880e+06],\n",
       "       [1.50000e+02, 5.00000e+00, 2.45700e+06],\n",
       "       [6.50000e+01, 2.00000e+00, 4.91400e+05],\n",
       "       [9.00000e+01, 3.00000e+00, 1.42020e+06],\n",
       "       [6.00000e+01, 2.00000e+00, 5.53860e+05],\n",
       "       [7.50000e+01, 3.00000e+00, 7.94250e+05],\n",
       "       [1.10000e+02, 4.00000e+00, 1.29590e+06],\n",
       "       [8.00000e+01, 3.00000e+00, 9.50000e+05],\n",
       "       [4.00000e+01, 1.00000e+00, 5.00000e+06],\n",
       "       [2.00000e+02, 2.00000e+00, 3.00000e+05],\n",
       "       [3.00000e+01, 1.00000e+01, 8.00000e+05]])"
      ]
     },
     "execution_count": 115,
     "metadata": {},
     "output_type": "execute_result"
    }
   ],
   "source": [
    "data"
   ]
  },
  {
   "cell_type": "code",
   "execution_count": null,
   "metadata": {
    "id": "KLuZAjuOYasr"
   },
   "outputs": [],
   "source": [
    "# calcul par add\n",
    "print(\"total_Surface:\", np.add.reduce(data[:,0]))\n",
    "print(\"total_price:\", np.add.reduce(data[:,2]))"
   ]
  },
  {
   "cell_type": "code",
   "execution_count": null,
   "metadata": {
    "id": "sbu9wO8qdR5V"
   },
   "outputs": [],
   "source": []
  },
  {
   "cell_type": "code",
   "execution_count": null,
   "metadata": {
    "id": "b0RwouYZdR0k"
   },
   "outputs": [],
   "source": [
    "# Numpy et la statistique descriptive\n",
    "z = data[:,0]\n",
    "mean = np.mean(z)\n",
    "mediane = np.median(z)\n",
    "ecart_type = np.std(z)\n",
    "variance = np.var(z)\n",
    "min = np.min(z)\n",
    "max = np.max(z)\n",
    "somme = np.sum(z)\n",
    "quantiles = np.percentile(z, 25)"
   ]
  },
  {
   "cell_type": "code",
   "execution_count": null,
   "metadata": {
    "colab": {
     "base_uri": "https://localhost:8080/"
    },
    "id": "W7MYBIOmemjV",
    "outputId": "b606b9b4-7bac-4343-9a16-8f4963111f0b"
   },
   "outputs": [
    {
     "data": {
      "text/plain": [
       "array([  89.23076923,   80.        ,   44.8864445 , 2014.79289941,\n",
       "         30.        ,  200.        , 1160.        ,   60.        ])"
      ]
     },
     "execution_count": 127,
     "metadata": {},
     "output_type": "execute_result"
    }
   ],
   "source": [
    "statistique = np.array([mean, mediane, ecart_type, variance, min, max, somme, quantiles])\n",
    "statistique"
   ]
  },
  {
   "cell_type": "code",
   "execution_count": null,
   "metadata": {
    "colab": {
     "base_uri": "https://localhost:8080/"
    },
    "id": "WftQA2Iqyhzp",
    "outputId": "b98e6bb5-08ce-48f3-ddd0-90353cc46d4e"
   },
   "outputs": [
    {
     "data": {
      "text/plain": [
       "array([ 85.,  55., 120., 150.,  65.,  90.,  60.,  75., 110.,  80.,  40.,\n",
       "       200.,  30.])"
      ]
     },
     "execution_count": 149,
     "metadata": {},
     "output_type": "execute_result"
    }
   ],
   "source": [
    "z"
   ]
  },
  {
   "cell_type": "code",
   "execution_count": null,
   "metadata": {
    "id": "FUTZvt5ufSqF"
   },
   "outputs": [],
   "source": [
    "# normaliser et standardiser les colonne surface et prix_vente:\n",
    "# surface\n",
    "normalized_data = (z - min)/(max-min)\n",
    "# standardisation\n",
    "standardized_data = (z - mean)/ ecart_type"
   ]
  },
  {
   "cell_type": "markdown",
   "metadata": {
    "id": "Z2Uj6IEDytP-"
   },
   "source": [
    "Questions (Set 2 : Vrai/Faux)\n",
    "\n",
    "\n",
    "1.   La fonction np.arange(10) crée un tableau avec les valeurs de 1 à 10.\n",
    "\n",
    "*   Faux\n",
    "*   Car on crée un tableau avec 10 élément allant de la valeur 0 à 9\n",
    "\n",
    "\n",
    "2.  L'attribut size d'un tableau NumPy donne le nombre total d'éléments dans le tableau.\n",
    "\n",
    "*   Vrai\n",
    "\n",
    "3. La méthode np.ones((3, 4)) crée un tableau rempli de 1 avec 3 lignes et 4 colonnes.\n",
    "\n",
    "*   Vrai\n",
    "\n",
    "4. La méthode .T transpose un tableau NumPy.\n",
    "\n",
    "\n",
    "*   Vrai\n",
    "\n",
    "5. NumPy permet de travailler avec des valeurs infinies à l'aide de np.inf.\n",
    "\n",
    "*   Vrai\n",
    "\n",
    "6. la division par zéro dans numpy renvoie toujours une erreur\n",
    "\n",
    "*   Faux   \n",
    "\n",
    "7. La méthode np.cancatenate() peut etre utlisé pour fusionner des tableaux le long d'un axe\n",
    "\n",
    "*  Vrai\n",
    "\n",
    "8. la méthode np.max() retourne uniquement la valeur maximale d'un tableau 1D\n",
    "\n",
    "* Vrai\n",
    "\n",
    "9. les masks de firtrage ne fonctionnent qu'avec des tableau 1D\n",
    "\n",
    "*   Faux\n",
    "\n"
   ]
  },
  {
   "cell_type": "code",
   "execution_count": null,
   "metadata": {
    "colab": {
     "base_uri": "https://localhost:8080/"
    },
    "id": "iap6jRzK3A4M",
    "outputId": "59f26982-b167-49aa-ec07-c18af80f87f7"
   },
   "outputs": [
    {
     "data": {
      "text/plain": [
       "array([4, 5])"
      ]
     },
     "execution_count": 157,
     "metadata": {},
     "output_type": "execute_result"
    }
   ],
   "source": [
    "a = ([1,2])\n",
    "b = 3\n",
    "\n",
    "np.add(a, b)"
   ]
  },
  {
   "cell_type": "code",
   "execution_count": null,
   "metadata": {
    "colab": {
     "base_uri": "https://localhost:8080/"
    },
    "id": "Dp-8RLVw5J9c",
    "outputId": "a7ee0e9d-5791-4bca-914b-e830abde8519"
   },
   "outputs": [
    {
     "data": {
      "text/plain": [
       "5000000.0"
      ]
     },
     "execution_count": 164,
     "metadata": {},
     "output_type": "execute_result"
    }
   ],
   "source": [
    "data = np.array(data, dtype=float)\n",
    "np.max(data)"
   ]
  },
  {
   "cell_type": "code",
   "execution_count": null,
   "metadata": {
    "colab": {
     "base_uri": "https://localhost:8080/"
    },
    "id": "ivBsor3z7kGD",
    "outputId": "3cd5d5cb-5e64-4575-c750-a60df418d120"
   },
   "outputs": [
    {
     "data": {
      "text/plain": [
       "array([[8.50000e+01, 3.00000e+00, 1.33025e+06],\n",
       "       [5.50000e+01, 2.00000e+00, 3.81700e+05],\n",
       "       [1.20000e+02, 4.00000e+00, 1.85880e+06],\n",
       "       [1.50000e+02, 5.00000e+00, 2.45700e+06],\n",
       "       [6.50000e+01, 2.00000e+00, 4.91400e+05],\n",
       "       [9.00000e+01, 3.00000e+00, 1.42020e+06],\n",
       "       [6.00000e+01, 2.00000e+00, 5.53860e+05],\n",
       "       [7.50000e+01, 3.00000e+00, 7.94250e+05],\n",
       "       [1.10000e+02, 4.00000e+00, 1.29590e+06],\n",
       "       [8.00000e+01, 3.00000e+00, 9.50000e+05],\n",
       "       [4.00000e+01, 1.00000e+00, 5.00000e+06],\n",
       "       [2.00000e+02, 2.00000e+00, 3.00000e+05],\n",
       "       [3.00000e+01, 1.00000e+01, 8.00000e+05]])"
      ]
     },
     "execution_count": 167,
     "metadata": {},
     "output_type": "execute_result"
    }
   ],
   "source": [
    "data"
   ]
  },
  {
   "cell_type": "code",
   "execution_count": null,
   "metadata": {
    "colab": {
     "base_uri": "https://localhost:8080/"
    },
    "id": "5ipmXd976H8o",
    "outputId": "4c363dac-4b40-4ce4-cd34-82b30db12e1f"
   },
   "outputs": [
    {
     "data": {
      "text/plain": [
       "1420200.0"
      ]
     },
     "execution_count": 168,
     "metadata": {},
     "output_type": "execute_result"
    }
   ],
   "source": [
    "# calcul du max de la colonne 0 donc premiere colonne\n",
    "np.max(data[:,0])\n",
    "\n",
    "# calcul du max de la ligne 5 donc premiere colonne\n",
    "np.max(data[5,:])"
   ]
  },
  {
   "cell_type": "code",
   "execution_count": null,
   "metadata": {
    "colab": {
     "base_uri": "https://localhost:8080/"
    },
    "id": "kzetB5_b8e4Q",
    "outputId": "37c98098-68a7-4d12-868c-50c195eb4d75"
   },
   "outputs": [
    {
     "data": {
      "text/plain": [
       "array([8.92307692e+01, 3.38461538e+00, 1.35641231e+06])"
      ]
     },
     "execution_count": 175,
     "metadata": {},
     "output_type": "execute_result"
    }
   ],
   "source": [
    "# Calcul des max par colonne\n",
    "\n",
    "np.max(data, axis = 0)\n",
    "\n",
    "# Calcul de la moyenne par colonne\n",
    "\n",
    "np.mean(data, axis = 0)\n"
   ]
  },
  {
   "cell_type": "markdown",
   "metadata": {
    "id": "sWobyb1M_HO9"
   },
   "source": [
    "Set 2\n",
    "\n",
    "1. Les ufunc peuvent produire plusieurs entrée ou sorties\n",
    "\n",
    "*   Vrai\n",
    "\n",
    "2. les ufunc sont des fonctions optimisé pour effectuer des opérations élémentaire sur des tableaux\n",
    "\n",
    "*   Vrai\n",
    "\n",
    "3. np.greater et np.less sont des fonctions ufunc\n",
    "\n",
    "*   Vrai\n",
    "\n",
    "4. la méthode np.reshape() modifie le tableau d'origine et retourne une nouvelle vue du même tableau avec une forme différente\n",
    "\n",
    "*   Faux\n",
    "\n",
    "5. La fonction flatten sert à quoi\n"
   ]
  },
  {
   "cell_type": "code",
   "execution_count": null,
   "metadata": {
    "colab": {
     "base_uri": "https://localhost:8080/"
    },
    "id": "sSdSPjhjHcCG",
    "outputId": "744cabde-ec5e-4e24-ba9a-7b83ef00f3ff"
   },
   "outputs": [
    {
     "data": {
      "text/plain": [
       "array([1, 2, 3, 4, 5, 6])"
      ]
     },
     "execution_count": 193,
     "metadata": {},
     "output_type": "execute_result"
    }
   ],
   "source": [
    "A = np.array([[1,2,3],[4,5,6]])\n",
    "A.flatten()"
   ]
  },
  {
   "cell_type": "code",
   "execution_count": null,
   "metadata": {
    "colab": {
     "base_uri": "https://localhost:8080/"
    },
    "id": "N2pC_uzgEGMJ",
    "outputId": "89b3e3d4-aca0-4835-d2ee-dd56cc3a0fda"
   },
   "outputs": [
    {
     "data": {
      "text/plain": [
       "array([1, 2, 3, 4, 5, 6])"
      ]
     },
     "execution_count": 198,
     "metadata": {},
     "output_type": "execute_result"
    }
   ],
   "source": [
    "A = np.array([[1,2,3],[4,5,6]])\n",
    "A = A.reshape(6)\n",
    "A"
   ]
  },
  {
   "cell_type": "code",
   "execution_count": null,
   "metadata": {
    "id": "iJhcMIpAWBxy"
   },
   "outputs": [],
   "source": []
  },
  {
   "cell_type": "markdown",
   "metadata": {
    "id": "WpeXD5REWDcp"
   },
   "source": []
  }
 ],
 "metadata": {
  "colab": {
   "provenance": []
  },
  "kernelspec": {
   "display_name": "Python 3 (ipykernel)",
   "language": "python",
   "name": "python3"
  },
  "language_info": {
   "codemirror_mode": {
    "name": "ipython",
    "version": 3
   },
   "file_extension": ".py",
   "mimetype": "text/x-python",
   "name": "python",
   "nbconvert_exporter": "python",
   "pygments_lexer": "ipython3",
   "version": "3.12.4"
  }
 },
 "nbformat": 4,
 "nbformat_minor": 4
}
